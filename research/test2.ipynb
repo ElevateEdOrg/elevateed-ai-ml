{
 "cells": [
  {
   "cell_type": "code",
   "execution_count": 1,
   "metadata": {},
   "outputs": [
    {
     "name": "stderr",
     "output_type": "stream",
     "text": [
      "e:\\Wappnet internship\\ElevateEdOrg\\New folder\\elevateed-ai-ml\\elevateded\\Lib\\site-packages\\tqdm\\auto.py:21: TqdmWarning: IProgress not found. Please update jupyter and ipywidgets. See https://ipywidgets.readthedocs.io/en/stable/user_install.html\n",
      "  from .autonotebook import tqdm as notebook_tqdm\n"
     ]
    }
   ],
   "source": [
    "import markovify\n",
    "import json\n",
    "import logging\n",
    "import random\n",
    "import re\n",
    "\n",
    "import nltk\n",
    "import qdrant_client\n",
    "from sentence_transformers import SentenceTransformer"
   ]
  },
  {
   "cell_type": "code",
   "execution_count": 2,
   "metadata": {},
   "outputs": [],
   "source": [
    "from nltk.corpus import stopwords"
   ]
  },
  {
   "cell_type": "code",
   "execution_count": 3,
   "metadata": {},
   "outputs": [],
   "source": [
    "QDRANT_URL = \"http://localhost:6333\"\n",
    "QDRANT_COLLECTION = \"course_83c94b40-9dc0-4253-b83c-b82218156493\""
   ]
  },
  {
   "cell_type": "code",
   "execution_count": 4,
   "metadata": {},
   "outputs": [],
   "source": [
    "q_client = qdrant_client.QdrantClient(QDRANT_URL)\n"
   ]
  },
  {
   "cell_type": "code",
   "execution_count": 5,
   "metadata": {},
   "outputs": [],
   "source": [
    "embedding_model = SentenceTransformer(\"all-mpnet-base-v2\")\n"
   ]
  },
  {
   "cell_type": "code",
   "execution_count": 6,
   "metadata": {},
   "outputs": [],
   "source": [
    "def retrieve_transcript_from_qdrant(query: str, top_k: int = 5) -> str:\n",
    "    \"\"\"\n",
    "    Retrieves transcript content from Qdrant based on the input query.\n",
    "    It uses the embedding model to encode the query and fetches the top_k most relevant texts.\n",
    "    \"\"\"\n",
    "    # Encode the query to get its vector representation\n",
    "    query_embedding = embedding_model.encode(query).tolist()\n",
    "    \n",
    "    # Search Qdrant for relevant transcript points\n",
    "    search_results = q_client.search(\n",
    "        collection_name=QDRANT_COLLECTION,\n",
    "        query_vector=query_embedding,\n",
    "        limit=top_k\n",
    "    )\n",
    "    \n",
    "    # Extract and concatenate transcript texts from the search results\n",
    "    transcript_texts = [hit.payload.get(\"text\", \"\") for hit in search_results]\n",
    "    return \" \".join(transcript_texts)"
   ]
  },
  {
   "cell_type": "code",
   "execution_count": 7,
   "metadata": {},
   "outputs": [],
   "source": [
    "def build_markov_model(text: str):\n",
    "    \"\"\"\n",
    "    Build a Markov model using the provided text.\n",
    "    The model can generate new sentences in the style of the input corpus.\n",
    "    \"\"\"\n",
    "    return markovify.Text(text)\n"
   ]
  },
  {
   "cell_type": "code",
   "execution_count": 8,
   "metadata": {},
   "outputs": [],
   "source": [
    "\n",
    "def generate_markov_sentence(model) -> str:\n",
    "    \"\"\"\n",
    "    Generates a sentence from the Markov model.\n",
    "    It tries up to 100 times to produce a valid sentence.\n",
    "    \"\"\"\n",
    "    sentence = model.make_sentence(tries=100)\n",
    "    return sentence"
   ]
  },
  {
   "cell_type": "code",
   "execution_count": 9,
   "metadata": {},
   "outputs": [],
   "source": [
    "def generate_fill_in_blank_question(sentence: str):\n",
    "    \"\"\"\n",
    "    Converts a generated sentence into a fill-in-the-blank quiz question.\n",
    "    It tokenizes the sentence, selects a candidate word (filtering out short words and stopwords),\n",
    "    replaces it with a blank, and creates distractor options.\n",
    "    \"\"\"\n",
    "    words = sentence.split()\n",
    "    # Filter out short words and common stopwords\n",
    "    filtered_words = [w for w in words if len(w) > 3 and w.lower() not in stopwords.words('english')]\n",
    "    if not filtered_words:\n",
    "        return None\n",
    "\n",
    "    # Randomly select a word to remove (as the answer)\n",
    "    word_to_blank = random.choice(filtered_words)\n",
    "    \n",
    "    # Create the question text by replacing the selected word with a blank\n",
    "    pattern = re.compile(re.escape(word_to_blank), re.IGNORECASE)\n",
    "    question_text = pattern.sub(\"______\", sentence, count=1)\n",
    "    \n",
    "    # Create distractors: select other words from the filtered list\n",
    "    distractors = list(set(filtered_words) - {word_to_blank})\n",
    "    if len(distractors) >= 3:\n",
    "        distractors = random.sample(distractors, 3)\n",
    "    else:\n",
    "        # Pad with \"N/A\" if not enough distractors\n",
    "        distractors += [\"N/A\"] * (3 - len(distractors))\n",
    "    \n",
    "    # Combine the correct answer with distractors and shuffle options\n",
    "    options = [word_to_blank] + distractors\n",
    "    random.shuffle(options)\n",
    "    \n",
    "    # Map the options to letters A, B, C, D\n",
    "    letters = [\"A\", \"B\", \"C\", \"D\"]\n",
    "    option_dict = {letter: option for letter, option in zip(letters, options)}\n",
    "    correct_letter = [letter for letter, option in option_dict.items() if option == word_to_blank][0]\n",
    "    \n",
    "    return {\n",
    "        \"question\": question_text,\n",
    "        \"options\": option_dict,\n",
    "        \"correct_answer\": correct_letter,\n",
    "        \"explanation\": f\"The correct word was '{word_to_blank}'.\"\n",
    "    }\n"
   ]
  },
  {
   "cell_type": "code",
   "execution_count": 10,
   "metadata": {},
   "outputs": [],
   "source": [
    "def generate_markov_quiz_from_qdrant(query: str, num_questions: int = 5):\n",
    "    \"\"\"\n",
    "    Retrieves transcript content from Qdrant using the given query,\n",
    "    builds a Markov model on the retrieved text, and generates quiz questions.\n",
    "    \"\"\"\n",
    "    # Retrieve transcript text from Qdrant\n",
    "    transcript_text = retrieve_transcript_from_qdrant(query)\n",
    "    if not transcript_text.strip():\n",
    "        print(\"No transcript found in Qdrant for query:\", query)\n",
    "        return []\n",
    "    \n",
    "    # Build the Markov model on the retrieved text\n",
    "    model = build_markov_model(transcript_text)\n",
    "    \n",
    "    # Generate quiz questions from the Markov model\n",
    "    questions = []\n",
    "    attempts = 0\n",
    "    while len(questions) < num_questions and attempts < num_questions * 10:\n",
    "        sentence = generate_markov_sentence(model)\n",
    "        if sentence:\n",
    "            question = generate_fill_in_blank_question(sentence)\n",
    "            if question:\n",
    "                questions.append(question)\n",
    "        attempts += 1\n",
    "    return questions"
   ]
  },
  {
   "cell_type": "code",
   "execution_count": 11,
   "metadata": {},
   "outputs": [
    {
     "name": "stderr",
     "output_type": "stream",
     "text": [
      "C:\\Users\\HARSH DADIYA\\AppData\\Local\\Temp\\ipykernel_7576\\3573269256.py:10: DeprecationWarning: `search` method is deprecated and will be removed in the future. Use `query_points` instead.\n",
      "  search_results = q_client.search(\n"
     ]
    },
    {
     "name": "stdout",
     "output_type": "stream",
     "text": [
      "[\n",
      "    {\n",
      "        \"question\": \"So, in this particular ______ of lectures, we will have our fast lecture.\",\n",
      "        \"options\": {\n",
      "            \"A\": \"lectures,\",\n",
      "            \"B\": \"particular\",\n",
      "            \"C\": \"series\",\n",
      "            \"D\": \"fast\"\n",
      "        },\n",
      "        \"correct_answer\": \"C\",\n",
      "        \"explanation\": \"The correct word was 'series'.\"\n",
      "    },\n",
      "    {\n",
      "        \"question\": \"So, in this particular series of ______ we will try t Welcome to the course on Cloud Computing.\",\n",
      "        \"options\": {\n",
      "            \"A\": \"course\",\n",
      "            \"B\": \"series\",\n",
      "            \"C\": \"Welcome\",\n",
      "            \"D\": \"lectures,\"\n",
      "        },\n",
      "        \"correct_answer\": \"D\",\n",
      "        \"explanation\": \"The correct word was 'lectures,'.\"\n",
      "    },\n",
      "    {\n",
      "        \"question\": \"So, ______ computing is a shared pool of configurable computing resources.\",\n",
      "        \"options\": {\n",
      "            \"A\": \"cloud\",\n",
      "            \"B\": \"computing\",\n",
      "            \"C\": \"pool\",\n",
      "            \"D\": \"resources.\"\n",
      "        },\n",
      "        \"correct_answer\": \"A\",\n",
      "        \"explanation\": \"The correct word was 'cloud'.\"\n",
      "    },\n",
      "    {\n",
      "        \"question\": \"So, in this particular series of lectures, we will have our ______ lecture.\",\n",
      "        \"options\": {\n",
      "            \"A\": \"lecture.\",\n",
      "            \"B\": \"series\",\n",
      "            \"C\": \"lectures,\",\n",
      "            \"D\": \"fast\"\n",
      "        },\n",
      "        \"correct_answer\": \"D\",\n",
      "        \"explanation\": \"The correct word was 'fast'.\"\n",
      "    },\n",
      "    {\n",
      "        \"question\": \"Today we will try to what we say ______ or respect.\",\n",
      "        \"options\": {\n",
      "            \"A\": \"Today\",\n",
      "            \"B\": \"respect.\",\n",
      "            \"C\": \"N/A\",\n",
      "            \"D\": \"follow\"\n",
      "        },\n",
      "        \"correct_answer\": \"D\",\n",
      "        \"explanation\": \"The correct word was 'follow'.\"\n",
      "    }\n",
      "]\n"
     ]
    }
   ],
   "source": [
    "# Main Execution\n",
    "# ---------------------------\n",
    "if __name__ == \"__main__\":\n",
    "    # Example: use \"Cloud Computing\" as the query to retrieve related transcript data.\n",
    "    sample_query = \"Cloud Computing\"\n",
    "    quiz = generate_markov_quiz_from_qdrant(sample_query, num_questions=5)\n",
    "    print(json.dumps(quiz, indent=4))"
   ]
  },
  {
   "cell_type": "code",
   "execution_count": null,
   "metadata": {},
   "outputs": [],
   "source": []
  }
 ],
 "metadata": {
  "kernelspec": {
   "display_name": "elevateded",
   "language": "python",
   "name": "python3"
  },
  "language_info": {
   "codemirror_mode": {
    "name": "ipython",
    "version": 3
   },
   "file_extension": ".py",
   "mimetype": "text/x-python",
   "name": "python",
   "nbconvert_exporter": "python",
   "pygments_lexer": "ipython3",
   "version": "3.12.3"
  }
 },
 "nbformat": 4,
 "nbformat_minor": 2
}
